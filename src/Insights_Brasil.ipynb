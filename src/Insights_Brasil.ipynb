{
 "cells": [
  {
   "cell_type": "markdown",
   "metadata": {},
   "source": [
    "### Cargamos herramientas necesarias"
   ]
  },
  {
   "cell_type": "code",
   "execution_count": null,
   "metadata": {},
   "outputs": [],
   "source": [
    "import pandas as pd\n",
    "import numpy as np\n",
    "\n",
    "from pandas import ExcelWriter\n",
    "import itertools\n",
    "\n",
    "pd.set_option('display.max_columns', None)\n",
    "\n",
    "#df_2013 = pd.read_csv(\"datos/datos-2013.csv\", index_col = 0)\n",
    "#df_2014 = pd.read_csv(\"datos/datos-2014.csv\", index_col = 0)\n",
    "#df_2015 = pd.read_csv(\"datos/datos-2015.csv\", index_col = 0)\n",
    "#df_2016 = pd.read_csv(\"datos/datos-2016.csv\", index_col = 0)\n",
    "#df_2017 = pd.read_csv(\"datos/datos-2017.csv\", index_col = 0)\n",
    "#df_2018 = pd.read_csv(\"datos/datos-2018.csv\", index_col = 0)\n",
    "#df_2019 = pd.read_csv(\"datos/datos-2019.csv\", index_col = 0)\n",
    "#df_2020 = pd.read_csv(\"datos/datos-2020.csv\", index_col = 0)\n",
    "#df_2021 = pd.read_csv(\"datos/datos-2021.csv\", index_col = 0)"
   ]
  }
 ],
 "metadata": {
  "kernelspec": {
   "display_name": "Python 3",
   "language": "python",
   "name": "python3"
  },
  "language_info": {
   "codemirror_mode": {
    "name": "ipython",
    "version": 3
   },
   "file_extension": ".py",
   "mimetype": "text/x-python",
   "name": "python",
   "nbconvert_exporter": "python",
   "pygments_lexer": "ipython3",
   "version": "3.9.6"
  }
 },
 "nbformat": 4,
 "nbformat_minor": 2
}
