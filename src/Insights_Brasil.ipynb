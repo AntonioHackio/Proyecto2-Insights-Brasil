{
 "cells": [
  {
   "cell_type": "markdown",
   "metadata": {},
   "source": [
    "### Cargamos herramientas necesarias"
   ]
  },
  {
   "cell_type": "code",
   "execution_count": 729,
   "metadata": {},
   "outputs": [],
   "source": [
    "import pandas as pd\n",
    "import numpy as np\n",
    "import matplotlib.pylab as plt\n",
    "import seaborn as sns\n",
    "from funciones_Brasil import porcentaje_nulos\n",
    "from pandas import ExcelWriter\n",
    "import itertools\n",
    "\n",
    "pd.set_option('display.max_columns', 200) \n",
    "\n",
    "df_2013 = pd.read_csv('../datos/datos-2013.csv', index_col = 0, encoding='ISO-8859-1', sep=';')\n",
    "df_2014 = pd.read_csv('../datos/datos-2014.csv', index_col = 0, encoding='ISO-8859-1', sep=';')\n",
    "df_2015 = pd.read_csv('../datos/datos-2015.csv', index_col = 0, encoding='ISO-8859-1', sep=';')\n",
    "df_2016 = pd.read_csv('../datos/datos-2016.csv', index_col = 0, encoding='ISO-8859-1', sep=';')\n",
    "df_2017 = pd.read_csv('../datos/datos-2017.csv', index_col = 0, encoding='ISO-8859-1', sep=';')\n",
    "df_2018 = pd.read_csv('../datos/datos-2018.csv', index_col = 0, encoding='ISO-8859-1', sep=';')\n",
    "df_2019 = pd.read_csv('../datos/datos-2019.csv', index_col = 0, encoding='ISO-8859-1', sep=';')\n",
    "df_2020 = pd.read_csv('../datos/datos-2020.csv', index_col = 0, encoding='ISO-8859-1', sep=';')\n",
    "df_2021 = pd.read_csv('../datos/datos-2021.csv', index_col = 0, encoding='ISO-8859-1', sep=';')"
   ]
  },
  {
   "cell_type": "markdown",
   "metadata": {},
   "source": [
    "# Análisis individual de los datasets"
   ]
  },
  {
   "cell_type": "markdown",
   "metadata": {},
   "source": [
    "Realizamos una inspección previa a la unión de los mismos para ver que el número de columnas y nombre no difiere."
   ]
  },
  {
   "cell_type": "code",
   "execution_count": null,
   "metadata": {},
   "outputs": [],
   "source": [
    "print(df_2013.shape)\n",
    "print(df_2013.columns)\n",
    "df_2013.head(2)"
   ]
  },
  {
   "cell_type": "code",
   "execution_count": null,
   "metadata": {},
   "outputs": [],
   "source": [
    "print(df_2014.shape)\n",
    "print(df_2014.columns)\n",
    "df_2014.head(2)"
   ]
  },
  {
   "cell_type": "code",
   "execution_count": null,
   "metadata": {},
   "outputs": [],
   "source": [
    "print(df_2015.shape)\n",
    "print(df_2015.columns)\n",
    "df_2015.head(2)"
   ]
  },
  {
   "cell_type": "code",
   "execution_count": null,
   "metadata": {},
   "outputs": [],
   "source": [
    "print(df_2016.shape)\n",
    "print(df_2016.columns)\n",
    "df_2016.head(2)"
   ]
  },
  {
   "cell_type": "code",
   "execution_count": null,
   "metadata": {},
   "outputs": [],
   "source": [
    "print(df_2017.shape)\n",
    "print(df_2017.columns)\n",
    "df_2017.head(2)"
   ]
  },
  {
   "cell_type": "code",
   "execution_count": null,
   "metadata": {},
   "outputs": [],
   "source": [
    "print(df_2018.shape)\n",
    "print(df_2018.columns)\n",
    "df_2018.head(2)"
   ]
  },
  {
   "cell_type": "code",
   "execution_count": null,
   "metadata": {},
   "outputs": [],
   "source": [
    "print(df_2019.shape)\n",
    "print(df_2019.columns)\n",
    "df_2019.head(2)"
   ]
  },
  {
   "cell_type": "code",
   "execution_count": null,
   "metadata": {},
   "outputs": [],
   "source": [
    "print(df_2020.shape)\n",
    "print(df_2020.columns)\n",
    "df_2020.head(2)"
   ]
  },
  {
   "cell_type": "code",
   "execution_count": null,
   "metadata": {},
   "outputs": [],
   "source": [
    "print(df_2021.shape)\n",
    "print(df_2021.columns)\n",
    "df_2021.head(2)"
   ]
  },
  {
   "cell_type": "markdown",
   "metadata": {},
   "source": [
    "Juntamos todos los Dataframes y comprobamos su forma y tamaño final"
   ]
  },
  {
   "cell_type": "code",
   "execution_count": null,
   "metadata": {},
   "outputs": [],
   "source": [
    "df_final = pd.concat([df_2013,df_2014,df_2015,df_2016,df_2017,df_2018,df_2019,df_2020,df_2021], ignore_index=True)\n",
    "print(df_final.shape)\n",
    "print(df_final.columns)"
   ]
  },
  {
   "cell_type": "code",
   "execution_count": null,
   "metadata": {},
   "outputs": [],
   "source": [
    "df_final.head(5)"
   ]
  },
  {
   "cell_type": "code",
   "execution_count": null,
   "metadata": {},
   "outputs": [],
   "source": [
    "df_final.isna().sum()"
   ]
  },
  {
   "cell_type": "markdown",
   "metadata": {},
   "source": [
    "Revisar si hay valores duplicados, o nulos. Únicamente se observan 578 valores nulos en la columna \"Data Lançamento\", por lo que no son relevantes y se decide mantenerlos. "
   ]
  },
  {
   "cell_type": "code",
   "execution_count": null,
   "metadata": {},
   "outputs": [],
   "source": [
    "df_final.dtypes"
   ]
  },
  {
   "cell_type": "code",
   "execution_count": null,
   "metadata": {},
   "outputs": [],
   "source": [
    "df_final[\"DATA LANÇAMENTO\"] = pd.to_datetime(df_final[\"DATA LANÇAMENTO\"])"
   ]
  },
  {
   "cell_type": "markdown",
   "metadata": {},
   "source": [
    "Reemplazar \"comas\" por \"puntos\" y pasar las columnas \"VALOR PREVISTO ATUALIZADO\" ,\"VALOR LANÇADO\", \"VALORREALIZADO\",  \"PERCENTUAL REALIZADO\" a numérico"
   ]
  },
  {
   "cell_type": "code",
   "execution_count": 745,
   "metadata": {},
   "outputs": [],
   "source": [
    "df_final['VALOR PREVISTO ATUALIZADO'] = df_final['VALOR PREVISTO ATUALIZADO'].str.replace(',', '.', regex=True) \n",
    "df_final['VALOR PREVISTO ATUALIZADO'] = pd.to_numeric(df_final['VALOR PREVISTO ATUALIZADO'])\n"
   ]
  },
  {
   "cell_type": "code",
   "execution_count": 746,
   "metadata": {},
   "outputs": [],
   "source": [
    "df_final['VALOR LANÇADO'] = df_final['VALOR LANÇADO'].str.replace(',', '.', regex=True) \n",
    "df_final['VALOR LANÇADO'] = pd.to_numeric(df_final['VALOR LANÇADO'])"
   ]
  },
  {
   "cell_type": "code",
   "execution_count": 747,
   "metadata": {},
   "outputs": [],
   "source": [
    "df_final['VALOR REALIZADO'] = df_final['VALOR REALIZADO'].str.replace(',', '.', regex=True)\n",
    "df_final['VALOR REALIZADO'] = pd.to_numeric(df_final['VALOR REALIZADO'])"
   ]
  },
  {
   "cell_type": "code",
   "execution_count": 748,
   "metadata": {},
   "outputs": [],
   "source": [
    "df_final['PERCENTUAL REALIZADO'] = df_final['PERCENTUAL REALIZADO'].str.replace(',', '.', regex=True)\n",
    "df_final['PERCENTUAL REALIZADO'] = pd.to_numeric(df_final['PERCENTUAL REALIZADO'])"
   ]
  },
  {
   "cell_type": "code",
   "execution_count": null,
   "metadata": {},
   "outputs": [],
   "source": [
    "df_final.head(10)"
   ]
  },
  {
   "cell_type": "code",
   "execution_count": null,
   "metadata": {},
   "outputs": [],
   "source": [
    "df_final.describe().round(2)"
   ]
  },
  {
   "cell_type": "code",
   "execution_count": null,
   "metadata": {},
   "outputs": [],
   "source": [
    "df_final.duplicated().sum()"
   ]
  },
  {
   "cell_type": "code",
   "execution_count": null,
   "metadata": {},
   "outputs": [],
   "source": [
    "df_final[\"DATA LANÇAMENTO\"]"
   ]
  },
  {
   "cell_type": "code",
   "execution_count": null,
   "metadata": {},
   "outputs": [],
   "source": [
    "df_final[\"ANO EXERCÍCIO\"].value_counts()"
   ]
  },
  {
   "cell_type": "markdown",
   "metadata": {},
   "source": [
    "# Distribución de Ingresos por Categoría económica"
   ]
  },
  {
   "cell_type": "code",
   "execution_count": null,
   "metadata": {},
   "outputs": [],
   "source": [
    "df_final[\"CATEGORIA ECONÔMICA\"].value_counts()"
   ]
  },
  {
   "cell_type": "code",
   "execution_count": null,
   "metadata": {},
   "outputs": [],
   "source": [
    "categorias_ingresos = df_final.groupby('CATEGORIA ECONÔMICA')['VALOR REALIZADO'].sum().reset_index()\n",
    "print(categorias_ingresos)"
   ]
  },
  {
   "cell_type": "markdown",
   "metadata": {},
   "source": [
    "Al analizar las categorías de ingresos más significativas, y su participación en los ingresos totales, destacamos que las que mayor ingresos tienen son \"Receitas Correntes\" y \"Receitas de Capital\"."
   ]
  },
  {
   "cell_type": "code",
   "execution_count": null,
   "metadata": {},
   "outputs": [],
   "source": [
    "categorias_ingresos = df_final.groupby('CATEGORIA ECONÔMICA')['VALOR REALIZADO'].sum().reset_index()\n",
    "sns.barplot(x='VALOR REALIZADO', y='CATEGORIA ECONÔMICA', data=categorias_ingresos, palette='viridis')\n"
   ]
  },
  {
   "cell_type": "markdown",
   "metadata": {},
   "source": [
    "Podemos observar lo que se mostraba anteriormente de forma numérica, incluyendolo en forma de gráfico, siendo más visual el resultado."
   ]
  },
  {
   "cell_type": "code",
   "execution_count": null,
   "metadata": {},
   "outputs": [],
   "source": [
    "df_final[\"VALORES FINALES\"] = df_final['VALOR LANÇADO'] - df_final['VALOR REALIZADO']\n",
    "categorias_ingresos_lanzado = df_final.groupby('CATEGORIA ECONÔMICA')['VALORES FINALES'].mean().reset_index()\n",
    "categorias_ingresos_lanzado\n"
   ]
  },
  {
   "cell_type": "markdown",
   "metadata": {},
   "source": [
    "Calculando la diferencia promedio entre los ingresos previstos y los realizados por cada categoria, se observa que en todas las categorias, menos en la de \"Sem informaçao\" , el resultado es negativo. Teniendo eso en cuenta, y pensando que valor lanzado se refiere a valor declarado oficialmente por Brasil, hay parte del dinero recaudado que se está desviando o defraudando por parte de la Administración ya que no se está declarando como recibido. "
   ]
  },
  {
   "cell_type": "code",
   "execution_count": null,
   "metadata": {},
   "outputs": [],
   "source": [
    "a=df_final[\"VALOR LANÇADO\"].sum()\n",
    "b=df_final['VALOR REALIZADO'].sum()\n",
    "c=a-b\n",
    "print(\"El valor de lanzado es \", a)\n",
    "print(\"El valor de realizado es \", b)\n",
    "print(\"La diferencia es \",c)"
   ]
  },
  {
   "cell_type": "markdown",
   "metadata": {},
   "source": [
    "# Análisis temporal"
   ]
  },
  {
   "cell_type": "code",
   "execution_count": null,
   "metadata": {},
   "outputs": [],
   "source": [
    "ingresos_año = df_final.groupby(\"ANO EXERCÍCIO\")[\"VALOR REALIZADO\"].sum()\n",
    "ingresos_año"
   ]
  },
  {
   "cell_type": "markdown",
   "metadata": {},
   "source": [
    "Al analizar como ha evolucionado el valor recaudado a lo largo de los años, se observa que éste es creciente conforme pasa el tiempo, siendo el valor menos recaudado en 2013 y el recaudado más alto en 2021. "
   ]
  },
  {
   "cell_type": "code",
   "execution_count": null,
   "metadata": {},
   "outputs": [],
   "source": [
    "ingresos_diarios = df_final.groupby(\"DATA LANÇAMENTO\")[\"VALOR REALIZADO\"].sum()\n",
    "ingresos_diarios"
   ]
  },
  {
   "cell_type": "markdown",
   "metadata": {},
   "source": [
    "# Identificación de discrepancias"
   ]
  },
  {
   "cell_type": "code",
   "execution_count": null,
   "metadata": {},
   "outputs": [],
   "source": [
    "df_final[\"DISCREPANCIAS\"] = df_final[\"VALOR REALIZADO\"] - df_final[\"VALOR PREVISTO ATUALIZADO\"]\n",
    "df_final[\"DISCREPANCIAS\"]"
   ]
  },
  {
   "cell_type": "markdown",
   "metadata": {},
   "source": [
    "Almacenamos en nuevo df, la suma total de las discrepancias de cada categoría. "
   ]
  },
  {
   "cell_type": "code",
   "execution_count": null,
   "metadata": {},
   "outputs": [],
   "source": [
    "df_discrepancias_por_categoria = df_final.groupby (\"CATEGORIA ECONÔMICA\")[\"DISCREPANCIAS\"].sum().reset_index()\n",
    "df_discrepancias_por_categoria"
   ]
  },
  {
   "cell_type": "markdown",
   "metadata": {},
   "source": [
    "Así podemos observar, que las categorías \"Receitas Correntes\" y \"Receitas de Capital\" tienen una subejecución, es decir, el valor realizado es menor que el previsto.\n",
    "Y por el contrario, las otras tres categorías, presentan una sobreejecución, por lo que el valor realizado es mayor que el previsto."
   ]
  },
  {
   "cell_type": "code",
   "execution_count": null,
   "metadata": {},
   "outputs": [],
   "source": [
    "df_final[\"DIFERENCIA_CONTABILIZADO\"] = df_final[\"VALOR LANÇADO\"] - df_final[\"VALOR PREVISTO ATUALIZADO\"]\n",
    "df_final[\"DIFERENCIA_CONTABILIZADO\"]"
   ]
  },
  {
   "cell_type": "code",
   "execution_count": null,
   "metadata": {},
   "outputs": [],
   "source": [
    "df_diferencias_contabilizadas_por_categoria = df_final.groupby (\"CATEGORIA ECONÔMICA\")[\"DIFERENCIA_CONTABILIZADO\"].sum().reset_index()\n",
    "df_diferencias_contabilizadas_por_categoria"
   ]
  },
  {
   "cell_type": "markdown",
   "metadata": {},
   "source": [
    "# GRÁFICOS"
   ]
  },
  {
   "cell_type": "code",
   "execution_count": null,
   "metadata": {},
   "outputs": [],
   "source": [
    "df_comparativa = df_final.groupby('CATEGORIA ECONÔMICA')[['VALOR REALIZADO','VALOR LANÇADO','VALOR PREVISTO ATUALIZADO']].sum().reset_index()\n",
    "print(df_comparativa)"
   ]
  },
  {
   "cell_type": "markdown",
   "metadata": {},
   "source": [
    "Gráfico donde se observa la comparación entre valores realizados por cada categoría."
   ]
  },
  {
   "cell_type": "code",
   "execution_count": null,
   "metadata": {},
   "outputs": [],
   "source": [
    "sns.barplot(x=\"CATEGORIA ECONÔMICA\", y= \"VALOR REALIZADO\", data= df_comparativa , palette= \"viridis\")\n",
    "plt.xticks(rotation=90)"
   ]
  },
  {
   "cell_type": "markdown",
   "metadata": {},
   "source": [
    "Gráfico donde se observa la comparación entre valores previstos por cada categoría."
   ]
  },
  {
   "cell_type": "code",
   "execution_count": null,
   "metadata": {},
   "outputs": [],
   "source": [
    "sns.barplot(x=\"CATEGORIA ECONÔMICA\", y= \"VALOR PREVISTO ATUALIZADO\", data= df_comparativa , palette= \"viridis\")\n",
    "plt.xticks(rotation=90)"
   ]
  },
  {
   "cell_type": "markdown",
   "metadata": {},
   "source": [
    "Gráfico donde se observa la comparación entre valores lanzados por cada categoría."
   ]
  },
  {
   "cell_type": "code",
   "execution_count": null,
   "metadata": {},
   "outputs": [],
   "source": [
    "sns.barplot(x=\"CATEGORIA ECONÔMICA\", y= \"VALOR LANÇADO\", data= df_comparativa , palette= \"viridis\")\n",
    "plt.xticks(rotation=90)"
   ]
  },
  {
   "cell_type": "markdown",
   "metadata": {},
   "source": [
    "Gráfico para visualizar la evolución temporal de los ingresos realizados y previstos."
   ]
  },
  {
   "cell_type": "code",
   "execution_count": null,
   "metadata": {},
   "outputs": [],
   "source": [
    "df_ingresos_año = df_final.groupby(\"ANO EXERCÍCIO\")[[\"VALOR REALIZADO\", \"VALOR PREVISTO ATUALIZADO\"]].sum()\n",
    "df_ingresos_año"
   ]
  },
  {
   "cell_type": "code",
   "execution_count": null,
   "metadata": {},
   "outputs": [],
   "source": [
    "sns.barplot(x=\"ANO EXERCÍCIO\", y= \"VALOR REALIZADO\", data= df_ingresos_año , palette= \"viridis\")"
   ]
  },
  {
   "cell_type": "code",
   "execution_count": null,
   "metadata": {},
   "outputs": [],
   "source": [
    "sns.barplot(x=\"ANO EXERCÍCIO\", y= \"VALOR PREVISTO ATUALIZADO\", data= df_ingresos_año , palette= \"viridis\")"
   ]
  },
  {
   "cell_type": "markdown",
   "metadata": {},
   "source": [
    "Diagrama de cajas para evaluar la dispersión entre los valores previstos y realizados en las diferentes categorías."
   ]
  },
  {
   "cell_type": "code",
   "execution_count": null,
   "metadata": {},
   "outputs": [],
   "source": [
    "sns.boxplot(x=\"CATEGORIA ECONÔMICA\", y= \"DISCREPANCIAS\" , data= df_discrepancias_por_categoria , palette= \"viridis\")\n",
    "plt.xticks(rotation=90)"
   ]
  },
  {
   "cell_type": "markdown",
   "metadata": {},
   "source": [
    "Este gráfico es poco visual, pues la dispersión entre los valores es muy elevada. "
   ]
  },
  {
   "cell_type": "code",
   "execution_count": null,
   "metadata": {},
   "outputs": [],
   "source": [
    "#porcentaje_nulos(df_final)"
   ]
  }
 ],
 "metadata": {
  "kernelspec": {
   "display_name": "Python 3",
   "language": "python",
   "name": "python3"
  },
  "language_info": {
   "codemirror_mode": {
    "name": "ipython",
    "version": 3
   },
   "file_extension": ".py",
   "mimetype": "text/x-python",
   "name": "python",
   "nbconvert_exporter": "python",
   "pygments_lexer": "ipython3",
   "version": "3.9.6"
  }
 },
 "nbformat": 4,
 "nbformat_minor": 2
}
