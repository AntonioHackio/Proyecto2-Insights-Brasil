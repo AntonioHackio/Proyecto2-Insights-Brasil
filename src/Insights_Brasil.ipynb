{
 "cells": [
  {
   "cell_type": "markdown",
   "metadata": {},
   "source": [
    "### Cargamos herramientas necesarias"
   ]
  },
  {
   "cell_type": "code",
   "execution_count": 72,
   "metadata": {},
   "outputs": [],
   "source": [
    "import pandas as pd\n",
    "import numpy as np\n",
    "import matplotlib.pylab as plt\n",
    "import seaborn as sns\n",
    "\n",
    "#from pandas import ExcelWriter\n",
    "#import itertools\n",
    "\n",
    "pd.set_option('display.max_columns', 200) \n",
    "\n",
    "df_2013 = pd.read_csv('../datos/datos-2013.csv', index_col = 0, encoding='ISO-8859-1', sep=';')\n",
    "df_2014 = pd.read_csv('../datos/datos-2014.csv', index_col = 0, encoding='ISO-8859-1', sep=';')\n",
    "df_2015 = pd.read_csv('../datos/datos-2015.csv', index_col = 0, encoding='ISO-8859-1', sep=';')\n",
    "df_2016 = pd.read_csv('../datos/datos-2016.csv', index_col = 0, encoding='ISO-8859-1', sep=';')\n",
    "df_2017 = pd.read_csv('../datos/datos-2017.csv', index_col = 0, encoding='ISO-8859-1', sep=';')\n",
    "df_2018 = pd.read_csv('../datos/datos-2018.csv', index_col = 0, encoding='ISO-8859-1', sep=';')\n",
    "df_2019 = pd.read_csv('../datos/datos-2019.csv', index_col = 0, encoding='ISO-8859-1', sep=';')\n",
    "df_2020 = pd.read_csv('../datos/datos-2020.csv', index_col = 0, encoding='ISO-8859-1', sep=';')\n",
    "df_2021 = pd.read_csv('../datos/datos-2021.csv', index_col = 0, encoding='ISO-8859-1', sep=';')"
   ]
  },
  {
   "cell_type": "markdown",
   "metadata": {},
   "source": [
    "# Análisis individual de los datasets"
   ]
  },
  {
   "cell_type": "markdown",
   "metadata": {},
   "source": [
    "Realizamos una inspección previa a la unión de los mismos para ver que el númeor de columnas y nombre no difiere."
   ]
  },
  {
   "cell_type": "code",
   "execution_count": null,
   "metadata": {},
   "outputs": [],
   "source": [
    "print(df_2013.shape)\n",
    "df_2013.head(2)"
   ]
  },
  {
   "cell_type": "code",
   "execution_count": null,
   "metadata": {},
   "outputs": [],
   "source": [
    "print(df_2014.shape)\n",
    "print(df_2014.columns)\n",
    "df_2014.head(2)"
   ]
  },
  {
   "cell_type": "code",
   "execution_count": null,
   "metadata": {},
   "outputs": [],
   "source": [
    "print(df_2015.shape)\n",
    "print(df_2015.columns)\n",
    "df_2015.head(2)"
   ]
  },
  {
   "cell_type": "code",
   "execution_count": null,
   "metadata": {},
   "outputs": [],
   "source": [
    "print(df_2016.shape)\n",
    "print(df_2016.columns)\n",
    "df_2016.head(2)"
   ]
  },
  {
   "cell_type": "code",
   "execution_count": null,
   "metadata": {},
   "outputs": [],
   "source": [
    "print(df_2017.shape)\n",
    "print(df_2017.columns)\n",
    "df_2017.head(2)"
   ]
  },
  {
   "cell_type": "code",
   "execution_count": null,
   "metadata": {},
   "outputs": [],
   "source": [
    "print(df_2018.shape)\n",
    "print(df_2018.columns)\n",
    "df_2018.head(2)"
   ]
  },
  {
   "cell_type": "code",
   "execution_count": null,
   "metadata": {},
   "outputs": [],
   "source": [
    "print(df_2019.shape)\n",
    "print(df_2019.columns)\n",
    "df_2019.head(2)"
   ]
  },
  {
   "cell_type": "code",
   "execution_count": null,
   "metadata": {},
   "outputs": [],
   "source": [
    "print(df_2020.shape)\n",
    "print(df_2020.columns)\n",
    "df_2020.head(2)"
   ]
  },
  {
   "cell_type": "code",
   "execution_count": null,
   "metadata": {},
   "outputs": [],
   "source": [
    "print(df_2021.shape)\n",
    "print(df_2021.columns)\n",
    "df_2021.head(2)"
   ]
  }
 ],
 "metadata": {
  "kernelspec": {
   "display_name": "Python 3",
   "language": "python",
   "name": "python3"
  },
  "language_info": {
   "codemirror_mode": {
    "name": "ipython",
    "version": 3
   },
   "file_extension": ".py",
   "mimetype": "text/x-python",
   "name": "python",
   "nbconvert_exporter": "python",
   "pygments_lexer": "ipython3",
   "version": "3.9.6"
  }
 },
 "nbformat": 4,
 "nbformat_minor": 2
}
